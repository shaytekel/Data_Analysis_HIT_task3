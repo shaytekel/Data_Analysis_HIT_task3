{
 "cells": [
  {
   "cell_type": "markdown",
   "metadata": {},
   "source": [
    "# Assignment 3 - Text Analysis\n",
    "An explanation this assignment could be found in the .pdf explanation document"
   ]
  },
  {
   "cell_type": "markdown",
   "metadata": {},
   "source": [
    "\n",
    "## Materials to review for this assignment\n",
    "<h4>From Moodle:</h4> \n",
    "<h5><u>Review the notebooks regarding the following python topics</u>:</h5>\n",
    "<div class=\"alert alert-info\">\n",
    "&#x2714; <b>Working with strings</b> (tutorial notebook)<br/>\n",
    "&#x2714; <b>Text Analysis</b> (tutorial notebook)<br/>\n",
    "&#x2714; <b>Hebrew text analysis tools (tokenizer, wordnet)</b> (moodle example)<br/>\n",
    "&#x2714; <b>(brief review) All previous notebooks</b><br/>\n",
    "</div> \n",
    "<h5><u>Review the presentations regarding the following topics</u>:</h5>\n",
    "<div class=\"alert alert-info\">\n",
    "&#x2714; <b>Text Analysis</b> (lecture presentation)<br/>\n",
    "&#x2714; <b>(brief review) All other presentations</b><br/>\n",
    "</div>"
   ]
  },
  {
   "cell_type": "code",
   "execution_count": null,
   "outputs": [],
   "source": [
    "## Personal Details:"
   ],
   "metadata": {
    "collapsed": false
   }
  },
  {
   "cell_type": "code",
   "execution_count": null,
   "outputs": [],
   "source": [
    "# Details Student 1:\n",
    "# Shay Tekel : 318508405\n",
    "# Details Student 2:\n",
    "# Amit Zur : 322280264"
   ],
   "metadata": {
    "collapsed": false
   }
  },
  {
   "cell_type": "markdown",
   "metadata": {},
   "source": [
    "## Preceding Step - import modules (packages)\n",
    "This step is necessary in order to use external modules (packages). <br/>"
   ]
  },
  {
   "cell_type": "code",
   "execution_count": 2,
   "metadata": {},
   "outputs": [],
   "source": [
    "# --------------------------------------\n",
    "import pandas as pd\n",
    "import numpy as np\n",
    "# --------------------------------------\n",
    "\n",
    "\n",
    "# --------------------------------------\n",
    "# ------------- visualizations:\n",
    "import seaborn as sns\n",
    "import matplotlib.pyplot as plt\n",
    "from matplotlib.colors import ListedColormap\n",
    "# --------------------------------------\n",
    "\n",
    "\n",
    "# ---------------------------------------\n",
    "import sklearn\n",
    "from sklearn import preprocessing, metrics, pipeline, model_selection, feature_extraction \n",
    "from sklearn import naive_bayes, linear_model, svm, neural_network, neighbors, tree\n",
    "from sklearn import decomposition, cluster\n",
    "\n",
    "from sklearn.model_selection import train_test_split, cross_val_score, GridSearchCV \n",
    "from sklearn.pipeline import Pipeline\n",
    "from sklearn.metrics import accuracy_score, confusion_matrix\n",
    "from sklearn.metrics import precision_score, recall_score, f1_score\n",
    "from sklearn.metrics import mean_squared_error, r2_score, silhouette_score\n",
    "from sklearn.preprocessing import MinMaxScaler, StandardScaler, LabelEncoder\n",
    "\n",
    "from sklearn.svm import LinearSVC\n",
    "from sklearn.neural_network import MLPClassifier\n",
    "from sklearn.linear_model import Perceptron, SGDClassifier\n",
    "from sklearn.decomposition import PCA\n",
    "from sklearn.cluster import KMeans\n",
    "from sklearn.naive_bayes import MultinomialNB, GaussianNB\n",
    "from sklearn.neighbors import KNeighborsClassifier\n",
    "from sklearn.tree import DecisionTreeClassifier\n",
    "# ---------------------------------------\n",
    "\n",
    "\n",
    "# ----------------- output and visualizations: \n",
    "import warnings\n",
    "from sklearn.exceptions import ConvergenceWarning\n",
    "warnings.simplefilter(\"ignore\")\n",
    "warnings.simplefilter(action='ignore', category=FutureWarning)\n",
    "warnings.simplefilter(\"ignore\", category=ConvergenceWarning)\n",
    "# show several prints in one cell. This will allow us to condence every trick in one cell.\n",
    "from IPython.core.interactiveshell import InteractiveShell\n",
    "InteractiveShell.ast_node_interactivity = \"all\"\n",
    "%matplotlib inline\n",
    "pd.pandas.set_option('display.max_columns', None)\n",
    "pd.set_option('display.float_format', lambda x: '%.3f' % x)\n",
    "# ---------------------------------------"
   ]
  },
  {
   "cell_type": "markdown",
   "metadata": {},
   "source": [
    "### Text analysis and String manipulation imports:"
   ]
  },
  {
   "cell_type": "code",
   "execution_count": 3,
   "metadata": {},
   "outputs": [],
   "source": [
    "# --------------------------------------\n",
    "# --------- Text analysis and Hebrew text analysis imports:\n",
    "# vectorizers:\n",
    "from sklearn.feature_extraction import text\n",
    "from sklearn.feature_extraction.text import CountVectorizer, TfidfVectorizer\n",
    "\n",
    "# regular expressions:\n",
    "import re\n",
    "# --------------------------------------"
   ]
  },
  {
   "cell_type": "markdown",
   "metadata": {},
   "source": [
    "### (optional) Hebrew text analysis - WordNet (for Hebrew)\n",
    "Note: the WordNet is not a must"
   ]
  },
  {
   "cell_type": "markdown",
   "metadata": {},
   "source": [
    "#### (optional) Only if you didn't install Wordnet (for Hebrew) use:"
   ]
  },
  {
   "cell_type": "code",
   "execution_count": 1,
   "metadata": {},
   "outputs": [],
   "source": [
    "# word net installation:\n",
    "\n",
    "# unmark if you want to use and need to install\n",
    "# !pip install wn\n",
    "# !python -m wn download omw-he:1.4"
   ]
  },
  {
   "cell_type": "code",
   "execution_count": 5,
   "metadata": {},
   "outputs": [],
   "source": [
    "# word net import:\n",
    "\n",
    "# unmark if you want to use:\n",
    "# import wn"
   ]
  },
  {
   "cell_type": "markdown",
   "metadata": {},
   "source": [
    "### (optional) Hebrew text analysis - hebrew_tokenizer (Tokenizer for Hebrew)\n",
    "Note: the hebrew_tokenizer is not a must"
   ]
  },
  {
   "cell_type": "markdown",
   "metadata": {},
   "source": [
    "#### (optional) Only if you didn't install hebrew_tokenizer use:"
   ]
  },
  {
   "cell_type": "code",
   "execution_count": 2,
   "metadata": {},
   "outputs": [],
   "source": [
    "# Hebrew tokenizer installation:\n",
    "\n",
    "# unmark if you want to use and need to install:\n",
    "# !pip install hebrew_tokenizer"
   ]
  },
  {
   "cell_type": "code",
   "execution_count": 3,
   "metadata": {},
   "outputs": [],
   "source": [
    "# Hebrew tokenizer import:\n",
    "\n",
    "# unmark if you want to use:\n",
    "# import hebrew_tokenizer as ht"
   ]
  },
  {
   "cell_type": "markdown",
   "metadata": {},
   "source": [
    "### Reading input files\n",
    "Reading input files for train annotated corpus (raw text data) corpus and for the test corpus"
   ]
  },
  {
   "cell_type": "code",
   "execution_count": 8,
   "metadata": {},
   "outputs": [],
   "source": [
    "train_filename = 'annotated_corpus_for_train.csv'\n",
    "test_filename  = 'corpus_for_test.csv'\n",
    "df_train = pd.read_csv(train_filename, index_col=None, encoding='utf-8')\n",
    "df_test  = pd.read_csv(test_filename, index_col=None, encoding='utf-8')"
   ]
  },
  {
   "cell_type": "code",
   "execution_count": 9,
   "metadata": {},
   "outputs": [
    {
     "data": {
      "text/html": [
       "<div>\n",
       "<style scoped>\n",
       "    .dataframe tbody tr th:only-of-type {\n",
       "        vertical-align: middle;\n",
       "    }\n",
       "\n",
       "    .dataframe tbody tr th {\n",
       "        vertical-align: top;\n",
       "    }\n",
       "\n",
       "    .dataframe thead th {\n",
       "        text-align: right;\n",
       "    }\n",
       "</style>\n",
       "<table border=\"1\" class=\"dataframe\">\n",
       "  <thead>\n",
       "    <tr style=\"text-align: right;\">\n",
       "      <th></th>\n",
       "      <th>story</th>\n",
       "      <th>gender</th>\n",
       "    </tr>\n",
       "  </thead>\n",
       "  <tbody>\n",
       "    <tr>\n",
       "      <th>0</th>\n",
       "      <td>כשחבר הזמין אותי לחול, לא באמת חשבתי שזה יקרה,...</td>\n",
       "      <td>m</td>\n",
       "    </tr>\n",
       "    <tr>\n",
       "      <th>1</th>\n",
       "      <td>לפני שהתגייסתי לצבא עשיתי כל מני מיונים ליחידו...</td>\n",
       "      <td>m</td>\n",
       "    </tr>\n",
       "    <tr>\n",
       "      <th>2</th>\n",
       "      <td>מאז שהתחילו הלימודים חלומו של כל סטודנט זה הפנ...</td>\n",
       "      <td>f</td>\n",
       "    </tr>\n",
       "    <tr>\n",
       "      <th>3</th>\n",
       "      <td>כשהייתי ילד, מטוסים היה הדבר שהכי ריתק אותי. ב...</td>\n",
       "      <td>m</td>\n",
       "    </tr>\n",
       "    <tr>\n",
       "      <th>4</th>\n",
       "      <td>‏הייתי מדריכה בכפר נוער ומתאם הכפר היינו צריכי...</td>\n",
       "      <td>f</td>\n",
       "    </tr>\n",
       "    <tr>\n",
       "      <th>5</th>\n",
       "      <td>לפני כ3 חודשים טסתי לרומא למשך שבוע. טסתי במטו...</td>\n",
       "      <td>f</td>\n",
       "    </tr>\n",
       "    <tr>\n",
       "      <th>6</th>\n",
       "      <td>אני כבר שנתיים נשוי והשנה אני ואישתי סוף סוף י...</td>\n",
       "      <td>m</td>\n",
       "    </tr>\n",
       "    <tr>\n",
       "      <th>7</th>\n",
       "      <td>השנה התחלנו שיפוץ בדירה שלנו בתל אביב. הדירה ה...</td>\n",
       "      <td>f</td>\n",
       "    </tr>\n",
       "  </tbody>\n",
       "</table>\n",
       "</div>"
      ],
      "text/plain": [
       "                                               story gender\n",
       "0  כשחבר הזמין אותי לחול, לא באמת חשבתי שזה יקרה,...      m\n",
       "1  לפני שהתגייסתי לצבא עשיתי כל מני מיונים ליחידו...      m\n",
       "2  מאז שהתחילו הלימודים חלומו של כל סטודנט זה הפנ...      f\n",
       "3  כשהייתי ילד, מטוסים היה הדבר שהכי ריתק אותי. ב...      m\n",
       "4  ‏הייתי מדריכה בכפר נוער ומתאם הכפר היינו צריכי...      f\n",
       "5  לפני כ3 חודשים טסתי לרומא למשך שבוע. טסתי במטו...      f\n",
       "6  אני כבר שנתיים נשוי והשנה אני ואישתי סוף סוף י...      m\n",
       "7  השנה התחלנו שיפוץ בדירה שלנו בתל אביב. הדירה ה...      f"
      ]
     },
     "execution_count": 9,
     "metadata": {},
     "output_type": "execute_result"
    },
    {
     "data": {
      "text/plain": [
       "(753, 2)"
      ]
     },
     "execution_count": 9,
     "metadata": {},
     "output_type": "execute_result"
    }
   ],
   "source": [
    "df_train.head(8)\n",
    "df_train.shape"
   ]
  },
  {
   "cell_type": "code",
   "execution_count": 14,
   "metadata": {},
   "outputs": [
    {
     "data": {
      "text/html": [
       "<div>\n",
       "<style scoped>\n",
       "    .dataframe tbody tr th:only-of-type {\n",
       "        vertical-align: middle;\n",
       "    }\n",
       "\n",
       "    .dataframe tbody tr th {\n",
       "        vertical-align: top;\n",
       "    }\n",
       "\n",
       "    .dataframe thead th {\n",
       "        text-align: right;\n",
       "    }\n",
       "</style>\n",
       "<table border=\"1\" class=\"dataframe\">\n",
       "  <thead>\n",
       "    <tr style=\"text-align: right;\">\n",
       "      <th></th>\n",
       "      <th>test_example_id</th>\n",
       "      <th>story</th>\n",
       "    </tr>\n",
       "  </thead>\n",
       "  <tbody>\n",
       "    <tr>\n",
       "      <th>0</th>\n",
       "      <td>0</td>\n",
       "      <td>כל קיץ אני והמשפחה נוסעים לארצות הברית לוס אנג...</td>\n",
       "    </tr>\n",
       "    <tr>\n",
       "      <th>1</th>\n",
       "      <td>1</td>\n",
       "      <td>הגעתי לשירות המדינה אחרי שנתיים כפעיל בתנועת \"...</td>\n",
       "    </tr>\n",
       "    <tr>\n",
       "      <th>2</th>\n",
       "      <td>2</td>\n",
       "      <td>אחת האהבות הגדולות שלי אלו הכלבים שלי ושל אישת...</td>\n",
       "    </tr>\n",
       "  </tbody>\n",
       "</table>\n",
       "</div>"
      ],
      "text/plain": [
       "   test_example_id                                              story\n",
       "0                0  כל קיץ אני והמשפחה נוסעים לארצות הברית לוס אנג...\n",
       "1                1  הגעתי לשירות המדינה אחרי שנתיים כפעיל בתנועת \"...\n",
       "2                2  אחת האהבות הגדולות שלי אלו הכלבים שלי ושל אישת..."
      ]
     },
     "execution_count": 14,
     "metadata": {},
     "output_type": "execute_result"
    },
    {
     "data": {
      "text/plain": [
       "(323, 2)"
      ]
     },
     "execution_count": 14,
     "metadata": {},
     "output_type": "execute_result"
    }
   ],
   "source": [
    "df_test.head(3)\n",
    "df_test.shape"
   ]
  },
  {
   "cell_type": "markdown",
   "metadata": {},
   "source": [
    "### Your implementation:\n",
    "Write your code solution in the following code-cells"
   ]
  },
  {
   "cell_type": "code",
   "execution_count": 10,
   "metadata": {},
   "outputs": [],
   "source": [
    "from sklearn.metrics import make_scorer, f1_score # make scorer import"
   ]
  },
  {
   "cell_type": "code",
   "execution_count": 11,
   "metadata": {},
   "outputs": [],
   "source": [
    "# changing special chars , notes and numbers\n",
    "\n",
    "def regOnDate(df):\n",
    "    processed_df = df.copy() # create a new DataFrame with the same shape as the original df\n",
    "    for i in processed_df.index:\n",
    "        processed_df.iloc[i,0] = re.sub(r'\\W',' ',str(processed_df.iloc[i,0])) \n",
    "        processed_df.iloc[i,0] = re.sub(r'\\d',' ',str(processed_df.iloc[i,0])) \n",
    "        processed_df.iloc[i,0] = re.sub(r'\\s\\w\\s',' ',processed_df.iloc[i,0]) \n",
    "    return processed_df['story']"
   ]
  },
  {
   "cell_type": "code",
   "execution_count": 12,
   "metadata": {},
   "outputs": [],
   "source": [
    "# cleaning the train data \n",
    "\n",
    "def my_cleaning():\n",
    "    df_train['story'] = df_train['story'].apply(lambda x: x.lower())\n",
    "    df_test['story'] = df_test['story'].apply(lambda x: x.lower())\n",
    "    df_train['story'] = regOnDate(df_train)\n",
    "    df_test['story'] = regOnDate(df_test)\n",
    "    X_train = df_train['story']  # Select only the 'story' column\n",
    "    y_train = df_train['gender']  # Select only the 'gender' column\n",
    "    x_test = df_test['story']\n",
    "    return X_train, y_train , x_test"
   ]
  },
  {
   "cell_type": "code",
   "execution_count": null,
   "metadata": {},
   "outputs": [],
   "source": [
    "# usage of the hebrew tokenizer\n",
    "\n",
    "def tokenizer_vect( hebrew_text):\n",
    "    token = ht.tokenize(hebrew_text)\n",
    "    tokens = list( filter( lambda x : ( x[0] == 'HEBREW') , token))\n",
    "    tokens = [tuple[1] for tuple in tokens]\n",
    "    return tokens"
   ]
  },
  {
   "cell_type": "code",
   "execution_count": 13,
   "metadata": {},
   "outputs": [],
   "source": [
    "\n",
    "x_train , y_train , x_test = my_cleaning()\n",
    "best_score = -1\n",
    "good_clf = None\n",
    "\n",
    "y_pred_saver = None\n",
    "max_average_score = -1\n",
    "best_model_saver = None\n"
   ]
  },
  {
   "cell_type": "markdown",
   "metadata": {},
   "source": [
    "### Finding Best MODEL:\n",
    "\n",
    "In the following cells , we will try several models , and compare them in order to find the best model\n",
    "\n",
    "We will use a variety of vectorizers , models - and different values for each model"
   ]
  },
  {
   "cell_type": "markdown",
   "metadata": {},
   "source": [
    "###### We will calculate the avg f1 score with the macro f1 , like the assignment's initial requierments  "
   ]
  },
  {
   "cell_type": "markdown",
   "metadata": {},
   "source": [
    "## KNeighborsClassifier :"
   ]
  },
  {
   "cell_type": "code",
   "execution_count": 23,
   "metadata": {},
   "outputs": [
    {
     "data": {
      "text/plain": [
       "GridSearchCV(cv=10,\n",
       "             estimator=Pipeline(steps=[('vect',\n",
       "                                        CountVectorizer(ngram_range=(1, 6))),\n",
       "                                       ('clf', KNeighborsClassifier())]),\n",
       "             n_jobs=-1,\n",
       "             param_grid={'clf__n_neighbors': [3, 5, 7], 'clf__p': [1, 2],\n",
       "                         'clf__weights': ['uniform', 'distance'],\n",
       "                         'vect__ngram_range': [(1, 1), (1, 2)]},\n",
       "             scoring=make_scorer(f1_score, average=macro))"
      ]
     },
     "execution_count": 23,
     "metadata": {},
     "output_type": "execute_result"
    },
    {
     "name": "stdout",
     "output_type": "stream",
     "text": [
      "Best model: Pipeline(steps=[('vect', CountVectorizer()),\n",
      "                ('clf',\n",
      "                 KNeighborsClassifier(n_neighbors=3, weights='distance'))])\n",
      "F1-average score: 0.5441303518258724\n"
     ]
    }
   ],
   "source": [
    "\n",
    "# Create a pipeline with KNeighborsClassifier\n",
    "pipeline = Pipeline([\n",
    "    ('vect', CountVectorizer(ngram_range=(1, 6))),\n",
    "    ('clf', KNeighborsClassifier())\n",
    "])\n",
    "\n",
    "# Define the parameter grid for grid search\n",
    "param_grid = {\n",
    "    'vect__ngram_range': [(1, 1), (1, 2)],  # n-gram range for the vectorizer\n",
    "    'clf__n_neighbors': [3, 5, 7],  # number of neighbors\n",
    "    'clf__weights': ['uniform', 'distance'],  # weight function used in prediction\n",
    "    'clf__p': [1, 2]  # distance metric used for the tree\n",
    "}\n",
    "\n",
    "\n",
    "# Perform grid search with cross-validation using the pipeline\n",
    "grid_search = GridSearchCV(pipeline, param_grid, cv=10, scoring=make_scorer(f1_score, average='macro'), n_jobs = -1)\n",
    "grid_search.fit(x_train, y_train)\n",
    "\n",
    "# Get the best pipeline model from grid search\n",
    "best_model = grid_search.best_estimator_\n",
    "\n",
    "# Calculate F1-score using cross-validation on the best model\n",
    "f1_scores = cross_val_score(best_model, x_train, y_train, scoring=make_scorer(f1_score, average='macro'), cv=10, n_jobs = -1)\n",
    "f1_average = f1_scores.mean()\n",
    "\n",
    "print(\"Best model:\", best_model)\n",
    "print(\"F1-average score:\", f1_average)"
   ]
  },
  {
   "cell_type": "markdown",
   "metadata": {},
   "source": [
    "##### Very low score at 0.54"
   ]
  },
  {
   "cell_type": "markdown",
   "metadata": {},
   "source": [
    "## DecisionTreeClassifier :"
   ]
  },
  {
   "cell_type": "code",
   "execution_count": 42,
   "metadata": {},
   "outputs": [
    {
     "data": {
      "text/plain": [
       "GridSearchCV(cv=10,\n",
       "             estimator=Pipeline(steps=[('vect',\n",
       "                                        TfidfVectorizer(min_df=5,\n",
       "                                                        ngram_range=(1, 6))),\n",
       "                                       ('clf',\n",
       "                                        DecisionTreeClassifier(random_state=42))]),\n",
       "             n_jobs=-1,\n",
       "             param_grid={'clf__criterion': ['gini', 'entropy'],\n",
       "                         'clf__max_depth': [None, 5, 10],\n",
       "                         'clf__min_samples_split': [2, 5, 10]},\n",
       "             scoring=make_scorer(f1_score, average=macro))"
      ]
     },
     "execution_count": 42,
     "metadata": {},
     "output_type": "execute_result"
    },
    {
     "name": "stdout",
     "output_type": "stream",
     "text": [
      "Best model: Pipeline(steps=[('vect', TfidfVectorizer(min_df=5, ngram_range=(1, 6))),\n",
      "                ('clf',\n",
      "                 DecisionTreeClassifier(criterion='entropy',\n",
      "                                        min_samples_split=5,\n",
      "                                        random_state=42))])\n",
      "F1-average score: 0.6241829745087971\n"
     ]
    }
   ],
   "source": [
    "param_grid = {\n",
    "    'clf__criterion': ['gini', 'entropy'],  # Criterion for splitting\n",
    "    'clf__max_depth': [None, 5, 10],  # Maximum depth of the tree\n",
    "    'clf__min_samples_split': [2, 5, 10]  # Minimum number of samples required to split\n",
    "}\n",
    "\n",
    "\n",
    "\n",
    "pipe  = Pipeline([\n",
    "    ('vect', TfidfVectorizer(min_df=5,ngram_range=(1, 6) )),\n",
    "    ('clf', DecisionTreeClassifier(random_state=42))\n",
    "])\n",
    "\n",
    "\n",
    "# Perform grid search with cross-validation using the pipeline\n",
    "grid_search = GridSearchCV(pipe, param_grid, cv=10, scoring=make_scorer(f1_score, average='macro'), n_jobs = -1)\n",
    "grid_search.fit(x_train, y_train)\n",
    "\n",
    "# Get the best pipeline model from grid search\n",
    "best_model = grid_search.best_estimator_\n",
    "# Calculate F1-score using cross-validation on the best model\n",
    "f1_scores = cross_val_score(best_model, x_train, y_train, scoring=make_scorer(f1_score, average='macro'), cv=10, n_jobs = -1)\n",
    "f1_average = f1_scores.mean()\n",
    "\n",
    "print(\"Best model:\", best_model)\n",
    "print(\"F1-average score:\", f1_average)\n",
    "y_pred = best_model.predict(x_test)\n",
    "\n",
    "\n",
    "\n",
    "\n",
    "if f1_average > max_average_score:\n",
    "    max_average_score = f1_average\n",
    "    best_model_saver = best_model\n",
    "    y_pred_saver = y_pred"
   ]
  },
  {
   "cell_type": "markdown",
   "metadata": {},
   "source": [
    "## Perceptron :"
   ]
  },
  {
   "cell_type": "code",
   "execution_count": 41,
   "metadata": {},
   "outputs": [
    {
     "data": {
      "text/plain": [
       "GridSearchCV(cv=10,\n",
       "             estimator=Pipeline(steps=[('vect',\n",
       "                                        CountVectorizer(tokenizer=<function tokenizer_vect at 0x0000024C9E371670>)),\n",
       "                                       ('classifier', Perceptron())]),\n",
       "             n_jobs=-1,\n",
       "             param_grid={'classifier__alpha': [0.0001, 0.001, 0.01],\n",
       "                         'classifier__max_iter': [1000, 5000, 10000],\n",
       "                         'classifier__penalty': ['l1', 'l2', 'elasticnet']},\n",
       "             scoring=make_scorer(f1_score, average=macro))"
      ]
     },
     "execution_count": 41,
     "metadata": {},
     "output_type": "execute_result"
    },
    {
     "name": "stdout",
     "output_type": "stream",
     "text": [
      "Best model: Pipeline(steps=[('vect',\n",
      "                 CountVectorizer(tokenizer=<function tokenizer_vect at 0x0000024C9E371670>)),\n",
      "                ('classifier', Perceptron(penalty='l1'))])\n",
      "F1-average score: 0.6558884013335995\n"
     ]
    }
   ],
   "source": [
    "# this time we will use the hebrew \n",
    "\n",
    "pipe = Pipeline([\n",
    "    ('vect', CountVectorizer(tokenizer = tokenizer_vect)),\n",
    "    ('classifier', Perceptron())\n",
    "])\n",
    "\n",
    "# Defining the hyperparameters to tune\n",
    "\n",
    "param_grid = {\n",
    "    'classifier__penalty': ['l1', 'l2', 'elasticnet'],\n",
    "    'classifier__alpha': [0.0001, 0.001, 0.01],\n",
    "    'classifier__max_iter': [1000, 5000, 10000]\n",
    "}\n",
    "\n",
    "\n",
    "# Perform grid search with cross-validation using the pipeline\n",
    "grid_search = GridSearchCV(pipe, param_grid, cv=10, scoring=make_scorer(f1_score, average='macro'), n_jobs = -1)\n",
    "grid_search.fit(x_train, y_train)\n",
    "\n",
    "# Get the best pipeline model from grid search\n",
    "best_model = grid_search.best_estimator_\n",
    "# Calculate F1-score using cross-validation on the best model\n",
    "f1_scores = cross_val_score(best_model, x_train, y_train, scoring=make_scorer(f1_score, average='macro'), cv=10, n_jobs = -1)\n",
    "f1_average = f1_scores.mean()\n",
    "\n",
    "print(\"Best model:\", best_model)\n",
    "print(\"F1-average score:\", f1_average)\n",
    "y_pred = best_model.predict(x_test)\n",
    "\n",
    "\n",
    "\n",
    "\n",
    "if f1_average > max_average_score:\n",
    "    max_average_score = f1_average\n",
    "    best_model_saver = best_model\n",
    "    y_pred_saver = y_pred"
   ]
  },
  {
   "cell_type": "markdown",
   "metadata": {},
   "source": [
    "## SGDClassifier :"
   ]
  },
  {
   "cell_type": "code",
   "execution_count": 34,
   "metadata": {},
   "outputs": [
    {
     "name": "stdout",
     "output_type": "stream",
     "text": [
      "--------------------------------\n"
     ]
    },
    {
     "data": {
      "text/plain": [
       "GridSearchCV(cv=10,\n",
       "             estimator=Pipeline(steps=[('vect',\n",
       "                                        CountVectorizer(tokenizer=<function tokenizer_vect at 0x0000024C9E371670>)),\n",
       "                                       ('normalize', Normalizer()),\n",
       "                                       ('clf',\n",
       "                                        SGDClassifier(random_state=42))]),\n",
       "             n_jobs=-1,\n",
       "             param_grid={'clf__alpha': [0.0001, 0.001, 0.01, 0.1],\n",
       "                         'clf__eta0': [0.1, 0.01, 0.001],\n",
       "                         'clf__max_iter': [1000, 2000, 3000],\n",
       "                         'clf__penalty': ['l1', 'l2', 'elasticnet'],\n",
       "                         'vect__min_df': [1, 5],\n",
       "                         'vect__ngram_range': [(1, 1), (1, 2)]},\n",
       "             scoring=make_scorer(f1_score, average=macro))"
      ]
     },
     "execution_count": 34,
     "metadata": {},
     "output_type": "execute_result"
    },
    {
     "name": "stdout",
     "output_type": "stream",
     "text": [
      "---------------------------------\n",
      "Best model: Pipeline(steps=[('vect',\n",
      "                 CountVectorizer(min_df=5, ngram_range=(1, 2),\n",
      "                                 tokenizer=<function tokenizer_vect at 0x0000024C9E371670>)),\n",
      "                ('normalize', Normalizer()),\n",
      "                ('clf',\n",
      "                 SGDClassifier(eta0=0.1, penalty='l1', random_state=42))])\n",
      "F1-average score: 0.6941253704762893\n"
     ]
    }
   ],
   "source": [
    "\n",
    "params = {\n",
    "          'vect__min_df': [1, 5],\n",
    "          'vect__ngram_range': [(1,1), (1,2)],\n",
    "          'clf__alpha': [ 0.0001, 0.001 , 0.01 , 0.1],\n",
    "          'clf__penalty': ['l1', 'l2', 'elasticnet'],\n",
    "          'clf__max_iter': [1000, 2000, 3000],\n",
    "          'clf__eta0': [0.1, 0.01, 0.001]}\n",
    "\n",
    "# Defining the pipeline\n",
    "\n",
    "pipe = Pipeline([\n",
    "    ('vect', CountVectorizer( tokenizer = tokenizer_vect )),\n",
    "    ('normalize', preprocessing.Normalizer(norm = 'l2')),\n",
    "    ('clf', SGDClassifier( max_iter = 1000 , random_state = 42))\n",
    "])\n",
    "\n",
    "\n",
    "# Perform grid search with cross-validation using the pipeline\n",
    "grid_search = GridSearchCV(pipe, params, cv=10, scoring=make_scorer(f1_score, average='macro') , n_jobs = -1)\n",
    "\n",
    "print(\"--------------------------------\")\n",
    "grid_search.fit(x_train, y_train )\n",
    "\n",
    "# Get the best pipeline model from grid search\n",
    "\n",
    "best_model = grid_search.best_estimator_\n",
    "\n",
    "# Calculate F1-score using cross-validation on the best model\n",
    "print(\"---------------------------------\")\n",
    "\n",
    "f1_scores = cross_val_score(best_model, x_train, y_train, scoring=make_scorer(f1_score, average='macro'), cv=10 , n_jobs = -1)\n",
    "f1_average = f1_scores.mean()\n",
    "\n",
    "print(\"Best model:\", best_model)\n",
    "print(\"F1-average score:\", f1_average)\n",
    "y_pred = best_model.predict(x_test)\n",
    "\n",
    "\n",
    "\n",
    "\n",
    "if f1_average > max_average_score:\n",
    "    max_average_score = f1_average\n",
    "    best_model_saver = best_model\n",
    "    y_pred_saver = y_pred"
   ]
  },
  {
   "cell_type": "markdown",
   "metadata": {},
   "source": [
    "##### Current best f1 : 0.694"
   ]
  },
  {
   "cell_type": "markdown",
   "metadata": {},
   "source": [
    "## LinearSVC :"
   ]
  },
  {
   "cell_type": "code",
   "execution_count": 35,
   "metadata": {},
   "outputs": [
    {
     "data": {
      "text/plain": [
       "GridSearchCV(cv=10,\n",
       "             estimator=Pipeline(steps=[('tfidf',\n",
       "                                        TfidfVectorizer(tokenizer=<function tokenizer_vect at 0x0000024C9E371670>)),\n",
       "                                       ('clf', LinearSVC())]),\n",
       "             n_jobs=-1,\n",
       "             param_grid={'clf__C': (0.1, 1, 10), 'clf__dual': (True, False),\n",
       "                         'clf__loss': ('hinge', 'squared_hinge'),\n",
       "                         'clf__penalty': ('l1', 'l2'),\n",
       "                         'tfidf__max_df': (0.5, 0.75, 1.0),\n",
       "                         'tfidf__min_df': (1, 2),\n",
       "                         'tfidf__ngram_range': [(1, 1), (1, 2)],\n",
       "                         'tfidf__use_idf': (True, False)},\n",
       "             scoring=make_scorer(f1_score, average=macro))"
      ]
     },
     "execution_count": 35,
     "metadata": {},
     "output_type": "execute_result"
    },
    {
     "name": "stdout",
     "output_type": "stream",
     "text": [
      "Best model: Pipeline(steps=[('tfidf',\n",
      "                 TfidfVectorizer(ngram_range=(1, 2),\n",
      "                                 tokenizer=<function tokenizer_vect at 0x0000024C9E371670>)),\n",
      "                ('clf', LinearSVC(C=10, dual=False, penalty='l1'))])\n",
      "F1-average score: 0.7087853043557291\n"
     ]
    }
   ],
   "source": [
    "# Defining the pipeline\n",
    "\n",
    "pipe = Pipeline([\n",
    "    ('tfidf', TfidfVectorizer( tokenizer = tokenizer_vect  )),\n",
    "    ('clf', LinearSVC())\n",
    "])\n",
    "\n",
    "# Defining the hyperparameters to be tuned:\n",
    "\n",
    "params = {\n",
    "    'tfidf__ngram_range': [(1, 1), (1, 2)],\n",
    "    'tfidf__use_idf': (True, False),\n",
    "    'tfidf__max_df': (0.5, 0.75, 1.0),\n",
    "    'tfidf__min_df': (1, 2),\n",
    "    'clf__C': (0.1, 1, 10),\n",
    "    'clf__penalty': ('l1', 'l2'),\n",
    "    'clf__loss': ('hinge', 'squared_hinge'),\n",
    "    'clf__dual': (True, False)\n",
    "}\n",
    "\n",
    "# Perform grid search with cross-validation using the pipeline\n",
    "\n",
    "grid_search = GridSearchCV(pipe, params, cv=10, scoring=make_scorer(f1_score, average='macro'), n_jobs = -1)\n",
    "grid_search.fit(x_train, y_train)\n",
    "\n",
    "# Get the best pipeline model from grid search\n",
    "\n",
    "best_model = grid_search.best_estimator_\n",
    "\n",
    "# Calculate F1-score using cross-validation on the best model\n",
    "\n",
    "f1_scores = cross_val_score(best_model, x_train, y_train, scoring=make_scorer(f1_score, average='macro'), cv=10, n_jobs = -1)\n",
    "f1_average = f1_scores.mean()\n",
    "\n",
    "print(\"Best model:\", best_model)\n",
    "print(\"F1-average score:\", f1_average)\n",
    "y_pred = best_model.predict(x_test)\n",
    "\n",
    "\n",
    "\n",
    "\n",
    "if f1_average > max_average_score:\n",
    "    max_average_score = f1_average\n",
    "    best_model_saver = best_model\n",
    "    y_pred_saver = y_pred"
   ]
  },
  {
   "cell_type": "markdown",
   "metadata": {},
   "source": [
    "##### current best f1 : 0.708"
   ]
  },
  {
   "cell_type": "markdown",
   "metadata": {},
   "source": [
    "## MLPClassifier : "
   ]
  },
  {
   "cell_type": "code",
   "execution_count": 16,
   "metadata": {},
   "outputs": [
    {
     "name": "stdout",
     "output_type": "stream",
     "text": [
      "@@@@@@@@@@@@@@@@@@@@@@@@@@@@@@@@@@@@@@\n"
     ]
    },
    {
     "data": {
      "text/plain": [
       "GridSearchCV(cv=10,\n",
       "             estimator=Pipeline(steps=[('tfidf', TfidfVectorizer()),\n",
       "                                       ('clf', MLPClassifier())]),\n",
       "             n_jobs=-1,\n",
       "             param_grid={'clf__alpha': [0.1, 0.01],\n",
       "                         'clf__hidden_layer_sizes': [(10,), (20,)]},\n",
       "             scoring=make_scorer(f1_score, average=macro))"
      ]
     },
     "execution_count": 16,
     "metadata": {},
     "output_type": "execute_result"
    },
    {
     "name": "stdout",
     "output_type": "stream",
     "text": [
      "======================\n",
      "Best model: Pipeline(steps=[('tfidf', TfidfVectorizer()),\n",
      "                ('clf', MLPClassifier(alpha=0.1, hidden_layer_sizes=(20,)))])\n",
      "F1-average score: 0.5537471930204838\n"
     ]
    }
   ],
   "source": [
    "# Defining the pipeline\n",
    "\n",
    "pipe = Pipeline([\n",
    "    ('tfidf', TfidfVectorizer()),\n",
    "    ('clf', MLPClassifier())\n",
    "])\n",
    "\n",
    "# Defining the hyperparameters for a final improved model:\n",
    "\n",
    "params = {\n",
    "    'tfidf__max_df': [0.5, 0.75, 1.0],\n",
    "    'classifier__hidden_layer_sizes': [(50,), (100,),],\n",
    "    'classifier__activation': ['logistic', 'relu'],\n",
    "    'classifier__solver': ['sgd', 'adam'],\n",
    "    'classifier__max_iter': [1000, 2000]\n",
    "}\n",
    "\n",
    "\n",
    "# Perform grid search with cross-validation using the pipeline\n",
    "grid_search = GridSearchCV(pipe, params, cv=10, scoring=make_scorer(f1_score, average='macro'), n_jobs = -1)\n",
    "print('@@@@@@@@@@@@@@@@@@@@@@@@@@@@@@@@@@@@@@')\n",
    "\n",
    "grid_search.fit(x_train, y_train)\n",
    "\n",
    "# Get the best pipeline model from grid search\n",
    "\n",
    "best_model = grid_search.best_estimator_\n",
    "print('======================')\n",
    "# Calculate F1-score using cross-validation on the best model\n",
    "\n",
    "f1_scores = cross_val_score(best_model, x_train, y_train, scoring=make_scorer(f1_score, average='macro'), cv=10, n_jobs = -1)\n",
    "f1_average = f1_scores.mean()\n",
    "\n",
    "print(\"Best model:\", best_model)\n",
    "print(\"F1-average score:\", f1_average)\n",
    "y_pred = best_model.predict(x_test)\n",
    "\n",
    "\n",
    "\n",
    "\n",
    "if f1_average > max_average_score:\n",
    "    max_average_score = f1_average\n",
    "    best_model_saver = best_model\n",
    "    y_pred_saver = y_pred"
   ]
  },
  {
   "cell_type": "markdown",
   "metadata": {},
   "source": [
    "##### We've tried MultinomialNB and MLPclassifier , both return rather low results"
   ]
  },
  {
   "cell_type": "code",
   "execution_count": 39,
   "metadata": {},
   "outputs": [
    {
     "data": {
      "text/plain": [
       "Pipeline(steps=[('tfidf',\n",
       "                 TfidfVectorizer(ngram_range=(1, 2),\n",
       "                                 tokenizer=<function tokenizer_vect at 0x0000024C9E371670>)),\n",
       "                ('clf', LinearSVC(C=10, dual=False, penalty='l1'))])"
      ]
     },
     "execution_count": 39,
     "metadata": {},
     "output_type": "execute_result"
    },
    {
     "data": {
      "text/plain": [
       "0.7087853043557291"
      ]
     },
     "execution_count": 39,
     "metadata": {},
     "output_type": "execute_result"
    }
   ],
   "source": [
    "best_model_saver\n",
    "max_average_score"
   ]
  },
  {
   "cell_type": "markdown",
   "metadata": {},
   "source": [
    "### Final Result :\n",
    "#### Best F1 score : 0.708\n",
    "#### Best Model  : LinearSVC"
   ]
  },
  {
   "cell_type": "markdown",
   "metadata": {},
   "source": [
    "##### Now , we will predict on the test set :"
   ]
  },
  {
   "cell_type": "code",
   "execution_count": 37,
   "metadata": {},
   "outputs": [],
   "source": [
    "X_test = df_test['story']\n",
    "predDfTest = best_model_saver.predict(X_test) # predicting if the author is male or female\n",
    "test = df_test.copy()\n",
    "\n",
    "for i in range(0,len(test['test_example_id'])):\n",
    "    test['test_example_id'][i] = predDfTest[i] #inserting the predictions into the data itself"
   ]
  },
  {
   "cell_type": "markdown",
   "metadata": {},
   "source": [
    "###### In the tabs bellow , you can see the dataset's 5 first and last rows - of the original \n",
    "###### and the predicted data: "
   ]
  },
  {
   "cell_type": "code",
   "execution_count": 38,
   "metadata": {},
   "outputs": [
    {
     "data": {
      "text/html": [
       "<div>\n",
       "<style scoped>\n",
       "    .dataframe tbody tr th:only-of-type {\n",
       "        vertical-align: middle;\n",
       "    }\n",
       "\n",
       "    .dataframe tbody tr th {\n",
       "        vertical-align: top;\n",
       "    }\n",
       "\n",
       "    .dataframe thead th {\n",
       "        text-align: right;\n",
       "    }\n",
       "</style>\n",
       "<table border=\"1\" class=\"dataframe\">\n",
       "  <thead>\n",
       "    <tr style=\"text-align: right;\">\n",
       "      <th></th>\n",
       "      <th>test_example_id</th>\n",
       "      <th>story</th>\n",
       "    </tr>\n",
       "  </thead>\n",
       "  <tbody>\n",
       "    <tr>\n",
       "      <th>0</th>\n",
       "      <td>m</td>\n",
       "      <td>כל קיץ אני והמשפחה נוסעים לארצות הברית לוס אנג...</td>\n",
       "    </tr>\n",
       "    <tr>\n",
       "      <th>1</th>\n",
       "      <td>m</td>\n",
       "      <td>הגעתי לשירות המדינה אחרי שנתיים כפעיל בתנועת \"...</td>\n",
       "    </tr>\n",
       "    <tr>\n",
       "      <th>2</th>\n",
       "      <td>m</td>\n",
       "      <td>אחת האהבות הגדולות שלי אלו הכלבים שלי ושל אישת...</td>\n",
       "    </tr>\n",
       "    <tr>\n",
       "      <th>3</th>\n",
       "      <td>m</td>\n",
       "      <td>רגע הגיוס לצבא היה הרגע הכי משמעותי עבורי, אני...</td>\n",
       "    </tr>\n",
       "    <tr>\n",
       "      <th>4</th>\n",
       "      <td>f</td>\n",
       "      <td>אני הגעתי לברזיל ישר מקולומביה וגם אני עשיתי ע...</td>\n",
       "    </tr>\n",
       "    <tr>\n",
       "      <th>...</th>\n",
       "      <td>...</td>\n",
       "      <td>...</td>\n",
       "    </tr>\n",
       "    <tr>\n",
       "      <th>318</th>\n",
       "      <td>m</td>\n",
       "      <td>בשנה האחרונה הרגשתי די תקוע בעבודה, השגרה הפכה...</td>\n",
       "    </tr>\n",
       "    <tr>\n",
       "      <th>319</th>\n",
       "      <td>m</td>\n",
       "      <td>אני ואילן חברים טובים מזה 20 שנה תמיד חלמנו לפ...</td>\n",
       "    </tr>\n",
       "    <tr>\n",
       "      <th>320</th>\n",
       "      <td>m</td>\n",
       "      <td>מידי יום שישי אני נוהג לנסוע בתחבורה ציבורית ס...</td>\n",
       "    </tr>\n",
       "    <tr>\n",
       "      <th>321</th>\n",
       "      <td>m</td>\n",
       "      <td>לפני מספר חודשים, בשיא התחלואה של הגל השני, עמ...</td>\n",
       "    </tr>\n",
       "    <tr>\n",
       "      <th>322</th>\n",
       "      <td>m</td>\n",
       "      <td>היום בו דיווחתי על גניבה של האוטו שלי. בוקר אח...</td>\n",
       "    </tr>\n",
       "  </tbody>\n",
       "</table>\n",
       "<p>323 rows × 2 columns</p>\n",
       "</div>"
      ],
      "text/plain": [
       "    test_example_id                                              story\n",
       "0                 m  כל קיץ אני והמשפחה נוסעים לארצות הברית לוס אנג...\n",
       "1                 m  הגעתי לשירות המדינה אחרי שנתיים כפעיל בתנועת \"...\n",
       "2                 m  אחת האהבות הגדולות שלי אלו הכלבים שלי ושל אישת...\n",
       "3                 m  רגע הגיוס לצבא היה הרגע הכי משמעותי עבורי, אני...\n",
       "4                 f  אני הגעתי לברזיל ישר מקולומביה וגם אני עשיתי ע...\n",
       "..              ...                                                ...\n",
       "318               m  בשנה האחרונה הרגשתי די תקוע בעבודה, השגרה הפכה...\n",
       "319               m  אני ואילן חברים טובים מזה 20 שנה תמיד חלמנו לפ...\n",
       "320               m  מידי יום שישי אני נוהג לנסוע בתחבורה ציבורית ס...\n",
       "321               m  לפני מספר חודשים, בשיא התחלואה של הגל השני, עמ...\n",
       "322               m  היום בו דיווחתי על גניבה של האוטו שלי. בוקר אח...\n",
       "\n",
       "[323 rows x 2 columns]"
      ]
     },
     "execution_count": 38,
     "metadata": {},
     "output_type": "execute_result"
    },
    {
     "data": {
      "text/html": [
       "<div>\n",
       "<style scoped>\n",
       "    .dataframe tbody tr th:only-of-type {\n",
       "        vertical-align: middle;\n",
       "    }\n",
       "\n",
       "    .dataframe tbody tr th {\n",
       "        vertical-align: top;\n",
       "    }\n",
       "\n",
       "    .dataframe thead th {\n",
       "        text-align: right;\n",
       "    }\n",
       "</style>\n",
       "<table border=\"1\" class=\"dataframe\">\n",
       "  <thead>\n",
       "    <tr style=\"text-align: right;\">\n",
       "      <th></th>\n",
       "      <th>test_example_id</th>\n",
       "      <th>predicted_category</th>\n",
       "    </tr>\n",
       "  </thead>\n",
       "  <tbody>\n",
       "    <tr>\n",
       "      <th>0</th>\n",
       "      <td>0</td>\n",
       "      <td>m</td>\n",
       "    </tr>\n",
       "    <tr>\n",
       "      <th>1</th>\n",
       "      <td>1</td>\n",
       "      <td>m</td>\n",
       "    </tr>\n",
       "    <tr>\n",
       "      <th>2</th>\n",
       "      <td>2</td>\n",
       "      <td>m</td>\n",
       "    </tr>\n",
       "    <tr>\n",
       "      <th>3</th>\n",
       "      <td>3</td>\n",
       "      <td>m</td>\n",
       "    </tr>\n",
       "    <tr>\n",
       "      <th>4</th>\n",
       "      <td>4</td>\n",
       "      <td>f</td>\n",
       "    </tr>\n",
       "    <tr>\n",
       "      <th>...</th>\n",
       "      <td>...</td>\n",
       "      <td>...</td>\n",
       "    </tr>\n",
       "    <tr>\n",
       "      <th>318</th>\n",
       "      <td>318</td>\n",
       "      <td>m</td>\n",
       "    </tr>\n",
       "    <tr>\n",
       "      <th>319</th>\n",
       "      <td>319</td>\n",
       "      <td>m</td>\n",
       "    </tr>\n",
       "    <tr>\n",
       "      <th>320</th>\n",
       "      <td>320</td>\n",
       "      <td>m</td>\n",
       "    </tr>\n",
       "    <tr>\n",
       "      <th>321</th>\n",
       "      <td>321</td>\n",
       "      <td>m</td>\n",
       "    </tr>\n",
       "    <tr>\n",
       "      <th>322</th>\n",
       "      <td>322</td>\n",
       "      <td>m</td>\n",
       "    </tr>\n",
       "  </tbody>\n",
       "</table>\n",
       "<p>323 rows × 2 columns</p>\n",
       "</div>"
      ],
      "text/plain": [
       "     test_example_id predicted_category\n",
       "0                  0                  m\n",
       "1                  1                  m\n",
       "2                  2                  m\n",
       "3                  3                  m\n",
       "4                  4                  f\n",
       "..               ...                ...\n",
       "318              318                  m\n",
       "319              319                  m\n",
       "320              320                  m\n",
       "321              321                  m\n",
       "322              322                  m\n",
       "\n",
       "[323 rows x 2 columns]"
      ]
     },
     "execution_count": 38,
     "metadata": {},
     "output_type": "execute_result"
    }
   ],
   "source": [
    "df_predicted = pd.DataFrame(columns = ['test_example_id','predicted_category'])\n",
    "\n",
    "df_predicted['test_example_id'] = df_test['test_example_id']\n",
    "df_predicted['predicted_category'] = test['test_example_id']\n",
    "test\n",
    "df_predicted"
   ]
  },
  {
   "cell_type": "markdown",
   "metadata": {},
   "source": [
    "### Save output to csv (optional)\n",
    "After you're done save your output to the 'classification_results.csv' csv file.<br/>\n",
    "We assume that the dataframe with your results contain the following columns:\n",
    "* column 1 (left column): 'test_example_id'  - the same id associated to each of the test stories to be predicted.\n",
    "* column 2 (right column): 'predicted_category' - the predicted gender value for each of the associated story. \n",
    "\n",
    "Assuming your predicted values are in the `df_predicted` dataframe, you should save you're results as following:"
   ]
  },
  {
   "cell_type": "code",
   "execution_count": null,
   "metadata": {},
   "outputs": [],
   "source": [
    "df_predicted.to_csv('classification_results.csv',index=False)"
   ]
  }
 ],
 "metadata": {
  "celltoolbar": "Create Assignment",
  "kernelspec": {
   "display_name": "Python 3 (ipykernel)",
   "language": "python",
   "name": "python3"
  },
  "language_info": {
   "codemirror_mode": {
    "name": "ipython",
    "version": 3
   },
   "file_extension": ".py",
   "mimetype": "text/x-python",
   "name": "python",
   "nbconvert_exporter": "python",
   "pygments_lexer": "ipython3",
   "version": "3.9.13"
  }
 },
 "nbformat": 4,
 "nbformat_minor": 4
}
